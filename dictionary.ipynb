{
 "cells": [
  {
   "cell_type": "code",
   "execution_count": 1,
   "id": "7ce19814-d0f4-49f3-b8fd-c2db8226a881",
   "metadata": {},
   "outputs": [],
   "source": [
    "d= {}"
   ]
  },
  {
   "cell_type": "code",
   "execution_count": 2,
   "id": "a195712a-9d84-4881-8922-0dd4ee750c83",
   "metadata": {},
   "outputs": [
    {
     "data": {
      "text/plain": [
       "dict"
      ]
     },
     "execution_count": 2,
     "metadata": {},
     "output_type": "execute_result"
    }
   ],
   "source": [
    "type(d)"
   ]
  },
  {
   "cell_type": "code",
   "execution_count": 3,
   "id": "475a6dcf-9a09-4695-8bdb-f1b4690e68c0",
   "metadata": {},
   "outputs": [],
   "source": [
    "d1 = {'key':\"sudh\"}"
   ]
  },
  {
   "cell_type": "code",
   "execution_count": 4,
   "id": "06ddf867-593a-4398-b8ff-f6c2baf4f3a1",
   "metadata": {},
   "outputs": [
    {
     "data": {
      "text/plain": [
       "dict"
      ]
     },
     "execution_count": 4,
     "metadata": {},
     "output_type": "execute_result"
    }
   ],
   "source": [
    "type(d1)"
   ]
  },
  {
   "cell_type": "code",
   "execution_count": 5,
   "id": "6158a9fa-5cc8-4778-8215-93d4a3a6696f",
   "metadata": {},
   "outputs": [],
   "source": [
    "d2 = {'name':\"kajal\"}"
   ]
  },
  {
   "cell_type": "code",
   "execution_count": 6,
   "id": "d0317878-5a3e-498c-bceb-5a908acea6a0",
   "metadata": {},
   "outputs": [
    {
     "data": {
      "text/plain": [
       "dict"
      ]
     },
     "execution_count": 6,
     "metadata": {},
     "output_type": "execute_result"
    }
   ],
   "source": [
    "type(d2)"
   ]
  },
  {
   "cell_type": "code",
   "execution_count": 8,
   "id": "a056b882-0428-4565-9bdf-1650ee836183",
   "metadata": {},
   "outputs": [
    {
     "data": {
      "text/plain": [
       "{'name': 'kajal'}"
      ]
     },
     "execution_count": 8,
     "metadata": {},
     "output_type": "execute_result"
    }
   ],
   "source": [
    "d2"
   ]
  },
  {
   "cell_type": "code",
   "execution_count": 15,
   "id": "8159be13-464b-4297-abd1-2ceaf2d469db",
   "metadata": {},
   "outputs": [],
   "source": [
    "d3 = {234 : 'kajal' , '@wer' : \"Ramesh\" }"
   ]
  },
  {
   "cell_type": "code",
   "execution_count": 10,
   "id": "aa7cd934-5d26-4a26-8876-2dd9619e090a",
   "metadata": {},
   "outputs": [
    {
     "data": {
      "text/plain": [
       "{234: 'kajal'}"
      ]
     },
     "execution_count": 10,
     "metadata": {},
     "output_type": "execute_result"
    }
   ],
   "source": [
    "d3"
   ]
  },
  {
   "cell_type": "code",
   "execution_count": 12,
   "id": "011a73d5-825e-4192-8f20-7a8ec6a6ebf0",
   "metadata": {},
   "outputs": [
    {
     "data": {
      "text/plain": [
       "dict"
      ]
     },
     "execution_count": 12,
     "metadata": {},
     "output_type": "execute_result"
    }
   ],
   "source": [
    "type(d3)"
   ]
  },
  {
   "cell_type": "code",
   "execution_count": 14,
   "id": "f3748988-8a7a-41fc-9746-c8f8d43ae500",
   "metadata": {},
   "outputs": [
    {
     "data": {
      "text/plain": [
       "'inside dict if we are entering a special character without single or double quote, it will givw an error\\nwe will not get error only if we are closing it and opening it with a single or double quote'"
      ]
     },
     "execution_count": 14,
     "metadata": {},
     "output_type": "execute_result"
    }
   ],
   "source": [
    "\"\"\"inside dict if we are entering a special character without single or double quote, it will givw an error\n",
    "we will not get error only if we are closing it and opening it with a single or double quote\"\"\""
   ]
  },
  {
   "cell_type": "code",
   "execution_count": 16,
   "id": "88cb8b4b-951b-4753-a5ba-c65562d76224",
   "metadata": {},
   "outputs": [],
   "source": [
    "d3 = {234 : 'kajal' , '@wer' : \"Ramesh\" , True :2345  }"
   ]
  },
  {
   "cell_type": "code",
   "execution_count": 17,
   "id": "01744824-f818-4dc8-b858-c20560720172",
   "metadata": {},
   "outputs": [
    {
     "data": {
      "text/plain": [
       "{234: 'kajal', '@wer': 'Ramesh', True: 2345}"
      ]
     },
     "execution_count": 17,
     "metadata": {},
     "output_type": "execute_result"
    }
   ],
   "source": [
    "d3"
   ]
  },
  {
   "cell_type": "code",
   "execution_count": 18,
   "id": "b99bdb69-89be-4626-a306-b1587efe25c5",
   "metadata": {},
   "outputs": [
    {
     "data": {
      "text/plain": [
       "dict"
      ]
     },
     "execution_count": 18,
     "metadata": {},
     "output_type": "execute_result"
    }
   ],
   "source": [
    "type(d3)"
   ]
  },
  {
   "cell_type": "code",
   "execution_count": 21,
   "id": "c720be86-f93a-4935-be3c-ef15864d2a8c",
   "metadata": {},
   "outputs": [
    {
     "data": {
      "text/plain": [
       "'kajal'"
      ]
     },
     "execution_count": 21,
     "metadata": {},
     "output_type": "execute_result"
    }
   ],
   "source": [
    "d3[234]"
   ]
  },
  {
   "cell_type": "code",
   "execution_count": 22,
   "id": "583a6110-2313-4ba6-b58c-c48e7237181c",
   "metadata": {},
   "outputs": [
    {
     "data": {
      "text/plain": [
       "'Ramesh'"
      ]
     },
     "execution_count": 22,
     "metadata": {},
     "output_type": "execute_result"
    }
   ],
   "source": [
    "d3['@wer']"
   ]
  },
  {
   "cell_type": "code",
   "execution_count": 24,
   "id": "316e3096-2c57-4880-82aa-04a4b3032850",
   "metadata": {},
   "outputs": [
    {
     "data": {
      "text/plain": [
       "2345"
      ]
     },
     "execution_count": 24,
     "metadata": {},
     "output_type": "execute_result"
    }
   ],
   "source": [
    "d3[True]"
   ]
  },
  {
   "cell_type": "code",
   "execution_count": 25,
   "id": "6f97d230-0e3c-415c-b4bd-6457fcb3476a",
   "metadata": {},
   "outputs": [
    {
     "data": {
      "text/plain": [
       "2345"
      ]
     },
     "execution_count": 25,
     "metadata": {},
     "output_type": "execute_result"
    }
   ],
   "source": [
    "d3[1]"
   ]
  },
  {
   "cell_type": "code",
   "execution_count": 26,
   "id": "14c28436-2195-48a1-a8c5-0ed768c235d0",
   "metadata": {},
   "outputs": [],
   "source": [
    "d4 = {'name':\"sudh\", 'mail_id' : \"123@gmail.com\", \"name\": \"sudhanshu\" }"
   ]
  },
  {
   "cell_type": "code",
   "execution_count": 27,
   "id": "63614b5f-6353-4dd6-bc2c-5191c1df9d28",
   "metadata": {},
   "outputs": [
    {
     "data": {
      "text/plain": [
       "{'name': 'sudhanshu', 'mail_id': '123@gmail.com'}"
      ]
     },
     "execution_count": 27,
     "metadata": {},
     "output_type": "execute_result"
    }
   ],
   "source": [
    "d4"
   ]
  },
  {
   "cell_type": "code",
   "execution_count": 30,
   "id": "d25be0d8-be20-4a86-bbdd-167d8ff87226",
   "metadata": {},
   "outputs": [
    {
     "data": {
      "text/plain": [
       "'sudhanshu'"
      ]
     },
     "execution_count": 30,
     "metadata": {},
     "output_type": "execute_result"
    }
   ],
   "source": [
    "d4['name']"
   ]
  },
  {
   "cell_type": "code",
   "execution_count": 32,
   "id": "c7195d2f-9ec8-4c18-b45d-34c23e1524c6",
   "metadata": {},
   "outputs": [],
   "source": [
    "#coz result will overwrite with the new value, thats y sudh didnt come"
   ]
  },
  {
   "cell_type": "code",
   "execution_count": 33,
   "id": "69fcbe0a-c07a-4a98-9a81-e92db01a8fb5",
   "metadata": {},
   "outputs": [],
   "source": [
    "d5 = {\"company\":'pwskills' , 'course': [\"web dev\", \"data science\", \"java with system design\"]}"
   ]
  },
  {
   "cell_type": "code",
   "execution_count": 34,
   "id": "e2c4e332-3013-467e-84f0-3128bbe4b153",
   "metadata": {},
   "outputs": [
    {
     "data": {
      "text/plain": [
       "{'company': 'pwskills',\n",
       " 'course': ['web dev', 'data science', 'java with system design']}"
      ]
     },
     "execution_count": 34,
     "metadata": {},
     "output_type": "execute_result"
    }
   ],
   "source": [
    "d5"
   ]
  },
  {
   "cell_type": "code",
   "execution_count": 36,
   "id": "1ae43fcc-b31a-4bda-ab25-a0bbdbf300d4",
   "metadata": {},
   "outputs": [
    {
     "data": {
      "text/plain": [
       "['web dev', 'data science', 'java with system design']"
      ]
     },
     "execution_count": 36,
     "metadata": {},
     "output_type": "execute_result"
    }
   ],
   "source": [
    "d5['course']"
   ]
  },
  {
   "cell_type": "code",
   "execution_count": 37,
   "id": "bdf49439-949b-4024-9b8a-fe1b8a5d6271",
   "metadata": {},
   "outputs": [
    {
     "data": {
      "text/plain": [
       "'java with system design'"
      ]
     },
     "execution_count": 37,
     "metadata": {},
     "output_type": "execute_result"
    }
   ],
   "source": [
    "d5['course'][2]"
   ]
  },
  {
   "cell_type": "code",
   "execution_count": 39,
   "id": "9addad2b-bc35-4e0c-8bcc-69ab5b36ac46",
   "metadata": {},
   "outputs": [],
   "source": [
    "d6 = { 'number': [2,3,4,5,6,7] , 'assignment': [1,2,3,45.67], 'launch_date': [12,30,28], 'class_time': {\"web dev\" :8, \"data science\": 7, \"java with dsa\": 5} }"
   ]
  },
  {
   "cell_type": "code",
   "execution_count": 38,
   "id": "a557c1c4-6dc8-48a9-8bae-c408a3c423f0",
   "metadata": {},
   "outputs": [
    {
     "ename": "SyntaxError",
     "evalue": "unmatched '}' (133473513.py, line 1)",
     "output_type": "error",
     "traceback": [
      "\u001b[0;36m  Cell \u001b[0;32mIn[38], line 1\u001b[0;36m\u001b[0m\n\u001b[0;31m    d6 = { 'number': [2,3,4,5,6,7] , 'assignment': [1,2,3,45.67], 'launch_date': [12,30,28], 'class_time': {\"web dev\" :8, \"data science\": 7, \"java with dsa\": 5} } }\u001b[0m\n\u001b[0m                                                                                                                                                                   ^\u001b[0m\n\u001b[0;31mSyntaxError\u001b[0m\u001b[0;31m:\u001b[0m unmatched '}'\n"
     ]
    }
   ],
   "source": [
    "d6 = { 'number': [2,3,4,5,6,7] , 'assignment': [1,2,3,45.67], 'launch_date': [12,30,28], 'class_time': {\"web dev\" :8, \"data science\": 7, \"java with dsa\": 5} } }"
   ]
  },
  {
   "cell_type": "code",
   "execution_count": 40,
   "id": "523a73ce-960e-4e8a-ab0a-87ef01e389ab",
   "metadata": {},
   "outputs": [],
   "source": [
    "d6 = { 'number': [2,3,4,5,6,7] , 'assignment': [1,2,3,45.67], 'launch_date': [12,30,28], 'class_time': {\"web dev\" :8, \"data science\": 7, \"java with dsa\": 5} }"
   ]
  },
  {
   "cell_type": "code",
   "execution_count": 41,
   "id": "2e0c4601-998b-4795-aed2-c68a665200a0",
   "metadata": {},
   "outputs": [
    {
     "data": {
      "text/plain": [
       "{'number': [2, 3, 4, 5, 6, 7],\n",
       " 'assignment': [1, 2, 3, 45.67],\n",
       " 'launch_date': [12, 30, 28],\n",
       " 'class_time': {'web dev': 8, 'data science': 7, 'java with dsa': 5}}"
      ]
     },
     "execution_count": 41,
     "metadata": {},
     "output_type": "execute_result"
    }
   ],
   "source": [
    "d6"
   ]
  },
  {
   "cell_type": "code",
   "execution_count": 42,
   "id": "2b05e9b5-1836-4424-95a6-f4e276cbae1a",
   "metadata": {},
   "outputs": [],
   "source": [
    "del d6['number']"
   ]
  },
  {
   "cell_type": "code",
   "execution_count": 43,
   "id": "467fa9aa-d89c-4de5-8dc2-6b25db87d6b2",
   "metadata": {},
   "outputs": [
    {
     "data": {
      "text/plain": [
       "{'assignment': [1, 2, 3, 45.67],\n",
       " 'launch_date': [12, 30, 28],\n",
       " 'class_time': {'web dev': 8, 'data science': 7, 'java with dsa': 5}}"
      ]
     },
     "execution_count": 43,
     "metadata": {},
     "output_type": "execute_result"
    }
   ],
   "source": [
    "d6"
   ]
  },
  {
   "cell_type": "code",
   "execution_count": 44,
   "id": "d5747217-7f7b-4569-85bc-6a93801d5ef1",
   "metadata": {},
   "outputs": [
    {
     "data": {
      "text/plain": [
       "dict_keys(['assignment', 'launch_date', 'class_time'])"
      ]
     },
     "execution_count": 44,
     "metadata": {},
     "output_type": "execute_result"
    }
   ],
   "source": [
    "d6.keys()"
   ]
  },
  {
   "cell_type": "code",
   "execution_count": 46,
   "id": "bac61cda-6ba8-42ca-96f4-a336fe011b82",
   "metadata": {},
   "outputs": [],
   "source": [
    "#to calculate key use d6.keys()"
   ]
  },
  {
   "cell_type": "code",
   "execution_count": 49,
   "id": "35017832-eddb-4a56-bb8b-9661e0877b0e",
   "metadata": {},
   "outputs": [
    {
     "data": {
      "text/plain": [
       "[('assignment', [1, 2, 3, 45.67]),\n",
       " ('launch_date', [12, 30, 28]),\n",
       " ('class_time', {'web dev': 8, 'data science': 7, 'java with dsa': 5})]"
      ]
     },
     "execution_count": 49,
     "metadata": {},
     "output_type": "execute_result"
    }
   ],
   "source": [
    "list (d6.items())"
   ]
  },
  {
   "cell_type": "code",
   "execution_count": 52,
   "id": "5be2aff6-2f6a-45b2-ac8c-cc0c8cfeee21",
   "metadata": {},
   "outputs": [
    {
     "data": {
      "text/plain": [
       "[1, 2, 3, 45.67]"
      ]
     },
     "execution_count": 52,
     "metadata": {},
     "output_type": "execute_result"
    }
   ],
   "source": [
    "d6.pop('assignment')"
   ]
  },
  {
   "cell_type": "code",
   "execution_count": 54,
   "id": "e6c1e491-a683-4a17-93fb-11faa7f602e0",
   "metadata": {},
   "outputs": [],
   "source": [
    "#dict is mutable"
   ]
  },
  {
   "cell_type": "code",
   "execution_count": null,
   "id": "789146fb-10fd-4987-9733-f731ba27b49b",
   "metadata": {},
   "outputs": [],
   "source": [
    "d6 = { 'number': [2,3,4,5,6,7] , 'assignment': [1,2,3,45.67], 'launch_date': [12,30,28], 'class_time': {\"web dev\" :8, \"data science\": 7, \"java with dsa\": 5} }"
   ]
  },
  {
   "cell_type": "code",
   "execution_count": 1,
   "id": "ab42cdc9-3608-4dba-87a6-709e98e1bd3c",
   "metadata": {},
   "outputs": [
    {
     "ename": "NameError",
     "evalue": "name 'd6' is not defined",
     "output_type": "error",
     "traceback": [
      "\u001b[0;31m---------------------------------------------------------------------------\u001b[0m",
      "\u001b[0;31mNameError\u001b[0m                                 Traceback (most recent call last)",
      "Cell \u001b[0;32mIn[1], line 1\u001b[0m\n\u001b[0;32m----> 1\u001b[0m \u001b[43md6\u001b[49m\n",
      "\u001b[0;31mNameError\u001b[0m: name 'd6' is not defined"
     ]
    }
   ],
   "source": [
    "d6"
   ]
  },
  {
   "cell_type": "code",
   "execution_count": 2,
   "id": "9da2087e-560f-421a-90ec-2d1b507dead0",
   "metadata": {},
   "outputs": [],
   "source": [
    "d6 = { 'number': [2,3,4,5,6,7] , 'assignment': [1,2,3,45.67], 'launch_date': [12,30,28], 'class_time': {\"web dev\" :8, \"data science\": 7, \"java with dsa\": 5} }"
   ]
  },
  {
   "cell_type": "code",
   "execution_count": 3,
   "id": "182990fc-a6c6-45bd-97c1-76db4c0bc688",
   "metadata": {},
   "outputs": [
    {
     "data": {
      "text/plain": [
       "{'number': [2, 3, 4, 5, 6, 7],\n",
       " 'assignment': [1, 2, 3, 45.67],\n",
       " 'launch_date': [12, 30, 28],\n",
       " 'class_time': {'web dev': 8, 'data science': 7, 'java with dsa': 5}}"
      ]
     },
     "execution_count": 3,
     "metadata": {},
     "output_type": "execute_result"
    }
   ],
   "source": [
    "d6"
   ]
  },
  {
   "cell_type": "code",
   "execution_count": 4,
   "id": "74376f83-c004-4292-81e9-f2b7a5d66dda",
   "metadata": {},
   "outputs": [
    {
     "ename": "TypeError",
     "evalue": "pop expected at least 1 argument, got 0",
     "output_type": "error",
     "traceback": [
      "\u001b[0;31m---------------------------------------------------------------------------\u001b[0m",
      "\u001b[0;31mTypeError\u001b[0m                                 Traceback (most recent call last)",
      "Cell \u001b[0;32mIn[4], line 1\u001b[0m\n\u001b[0;32m----> 1\u001b[0m \u001b[43md6\u001b[49m\u001b[38;5;241;43m.\u001b[39;49m\u001b[43mpop\u001b[49m\u001b[43m(\u001b[49m\u001b[43m)\u001b[49m\n",
      "\u001b[0;31mTypeError\u001b[0m: pop expected at least 1 argument, got 0"
     ]
    }
   ],
   "source": [
    "d6.pop()"
   ]
  },
  {
   "cell_type": "code",
   "execution_count": 6,
   "id": "fcf5053f-8b82-4443-a6d4-48dd0ffd9d8e",
   "metadata": {},
   "outputs": [
    {
     "name": "stdout",
     "output_type": "stream",
     "text": [
      "you will be a part of A1 batch\n"
     ]
    }
   ],
   "source": [
    "marks = 65\n",
    "if marks >= 80 :\n",
    "    print (\"you will be a part of A0 batch\")\n",
    "elif marks >= 60 and marks < 80 :\n",
    "    print (\"you will be a part of A1 batch\")\n",
    "elif marks >= 40 and marks < 60 :\n",
    "    print (\"you will be a part of A2 batch\")\n",
    "else :\n",
    "    print (\"you will be a part of A3 batch\")\n",
    "    "
   ]
  },
  {
   "cell_type": "code",
   "execution_count": 8,
   "id": "5c5a937f-cbf3-430d-8f6d-84af8d32a1fd",
   "metadata": {},
   "outputs": [
    {
     "data": {
      "text/plain": [
       "False"
      ]
     },
     "execution_count": 8,
     "metadata": {},
     "output_type": "execute_result"
    }
   ],
   "source": [
    "10 >= 80"
   ]
  },
  {
   "cell_type": "code",
   "execution_count": 11,
   "id": "8ea25e30-504a-4d2a-9a82-bdc856eefc70",
   "metadata": {},
   "outputs": [
    {
     "name": "stdin",
     "output_type": "stream",
     "text": [
      "enter your marks 90\n"
     ]
    },
    {
     "name": "stdout",
     "output_type": "stream",
     "text": [
      "you will be a part of A0 batch\n"
     ]
    }
   ],
   "source": [
    "marks = int(input (\"enter your marks\"))\n",
    "if marks >= 80 :\n",
    "    print (\"you will be a part of A0 batch\")\n",
    "elif marks >= 60 and marks < 80 :\n",
    "    print (\"you will be a part of A1 batch\")\n",
    "elif marks >= 40 and marks < 60 :\n",
    "    print (\"you will be a part of A2 batch\")\n",
    "else :\n",
    "    print (\"you will be a part of A3 batch\")\n",
    "    "
   ]
  },
  {
   "cell_type": "code",
   "execution_count": 12,
   "id": "7da824a8-1761-4f56-8560-e617a92e62e4",
   "metadata": {},
   "outputs": [
    {
     "data": {
      "text/plain": [
       "int"
      ]
     },
     "execution_count": 12,
     "metadata": {},
     "output_type": "execute_result"
    }
   ],
   "source": [
    "type(marks)"
   ]
  },
  {
   "cell_type": "code",
   "execution_count": 1,
   "id": "f50b4c98-7c34-4148-be0a-2b2f7d5339f0",
   "metadata": {},
   "outputs": [
    {
     "name": "stdin",
     "output_type": "stream",
     "text": [
      "enter your marks 45\n"
     ]
    },
    {
     "name": "stdout",
     "output_type": "stream",
     "text": [
      "you will be a part of A2 batch\n"
     ]
    }
   ],
   "source": [
    "marks = int(input (\"enter your marks\"))\n",
    "if marks >= 80 :\n",
    "    print (\"you will be a part of A0 batch\")\n",
    "elif marks >= 60 and marks < 80 :\n",
    "    print (\"you will be a part of A1 batch\")\n",
    "elif marks >= 40 and marks < 60 :\n",
    "    print (\"you will be a part of A2 batch\")\n",
    "else :\n",
    "    print (\"you will be a part of A3 batch\")\n",
    "    \n",
    "    "
   ]
  },
  {
   "cell_type": "code",
   "execution_count": 2,
   "id": "30507ee8-d7a1-4fad-ae42-ba2663a9a9fa",
   "metadata": {},
   "outputs": [
    {
     "data": {
      "text/plain": [
       "int"
      ]
     },
     "execution_count": 2,
     "metadata": {},
     "output_type": "execute_result"
    }
   ],
   "source": [
    "type(marks)"
   ]
  },
  {
   "cell_type": "code",
   "execution_count": 3,
   "id": "0417b23b-e800-4ec8-b0de-bff483b65551",
   "metadata": {},
   "outputs": [],
   "source": [
    "marks = 45"
   ]
  },
  {
   "cell_type": "code",
   "execution_count": 4,
   "id": "8b0f0f0c-dacb-42ed-988f-2b20a44841ad",
   "metadata": {},
   "outputs": [
    {
     "data": {
      "text/plain": [
       "int"
      ]
     },
     "execution_count": 4,
     "metadata": {},
     "output_type": "execute_result"
    }
   ],
   "source": [
    "type(marks)"
   ]
  },
  {
   "cell_type": "code",
   "execution_count": 5,
   "id": "22052e3f-000b-4064-9944-4b55aa424ceb",
   "metadata": {},
   "outputs": [
    {
     "name": "stdin",
     "output_type": "stream",
     "text": [
      "enter price 90\n"
     ]
    },
    {
     "name": "stdout",
     "output_type": "stream",
     "text": [
      "I will purchase\n"
     ]
    }
   ],
   "source": [
    "price = int(input (\"enter price\"))\n",
    "if price > 1000 :\n",
    "    print (\"I will not purchase\")\n",
    "else :\n",
    "    print (\"I will purchase\")"
   ]
  },
  {
   "cell_type": "code",
   "execution_count": 10,
   "id": "cd22f6f4-3d07-497d-bdca-5e65d16401eb",
   "metadata": {},
   "outputs": [
    {
     "name": "stdin",
     "output_type": "stream",
     "text": [
      "enter price 1500\n"
     ]
    },
    {
     "name": "stdout",
     "output_type": "stream",
     "text": [
      "I will not purchase\n",
      "not interested\n"
     ]
    }
   ],
   "source": [
    "price = int(input (\"enter price\"))\n",
    "if price > 1000 :\n",
    "    print (\"I will not purchase\")\n",
    "if price > 5000 :\n",
    "    print (\"this is too much\")\n",
    "elif price < 1000 :\n",
    "    print (\"I will purchase\")\n",
    "else :\n",
    "    print (\"not interested\")"
   ]
  },
  {
   "cell_type": "code",
   "execution_count": 15,
   "id": "38515001-3458-461c-aa6d-c8d736904c48",
   "metadata": {},
   "outputs": [],
   "source": [
    "l = [1,2,3,3,4,5,6,7,8]"
   ]
  },
  {
   "cell_type": "code",
   "execution_count": 16,
   "id": "30b139d6-7cb5-48b5-97c7-be62b2802b11",
   "metadata": {},
   "outputs": [
    {
     "data": {
      "text/plain": [
       "2"
      ]
     },
     "execution_count": 16,
     "metadata": {},
     "output_type": "execute_result"
    }
   ],
   "source": [
    "l[0]+1"
   ]
  },
  {
   "cell_type": "code",
   "execution_count": 17,
   "id": "4fa02c70-92e0-49b2-94c2-556f108f9fc6",
   "metadata": {},
   "outputs": [],
   "source": [
    "l1 = []"
   ]
  },
  {
   "cell_type": "code",
   "execution_count": 18,
   "id": "e6b70684-6367-4e27-a5b5-4f5ad3a703be",
   "metadata": {},
   "outputs": [],
   "source": [
    "l1.append(l[0]+1)"
   ]
  },
  {
   "cell_type": "code",
   "execution_count": 19,
   "id": "a4c10cd5-0cf9-4070-a0ce-02188c562efe",
   "metadata": {},
   "outputs": [
    {
     "data": {
      "text/plain": [
       "[2]"
      ]
     },
     "execution_count": 19,
     "metadata": {},
     "output_type": "execute_result"
    }
   ],
   "source": [
    "l1"
   ]
  },
  {
   "cell_type": "code",
   "execution_count": 20,
   "id": "36d9f6fd-6cb4-479c-baf1-a2e39381c6c3",
   "metadata": {},
   "outputs": [],
   "source": [
    "l = [1,2,3,3,4,5,6,7,8]"
   ]
  },
  {
   "cell_type": "code",
   "execution_count": 21,
   "id": "e3a66297-a8d6-488f-9bb8-8c0ff393995b",
   "metadata": {
    "jupyter": {
     "source_hidden": true
    },
    "tags": []
   },
   "outputs": [
    {
     "name": "stdout",
     "output_type": "stream",
     "text": [
      "1\n",
      "2\n",
      "3\n",
      "3\n",
      "4\n",
      "5\n",
      "6\n",
      "7\n",
      "8\n"
     ]
    }
   ],
   "source": [
    "for i in l :\n",
    "    print (i)"
   ]
  },
  {
   "cell_type": "code",
   "execution_count": 1,
   "id": "ddf4c866-b6cf-4fce-965e-af02032d6db4",
   "metadata": {},
   "outputs": [],
   "source": [
    "l = [1,2,3,3,4,5,6,7,8]"
   ]
  },
  {
   "cell_type": "code",
   "execution_count": 2,
   "id": "d6219bdd-abef-4610-a57e-f9c2cfe739e0",
   "metadata": {},
   "outputs": [
    {
     "data": {
      "text/plain": [
       "[1, 2, 3, 3, 4, 5, 6, 7, 8]"
      ]
     },
     "execution_count": 2,
     "metadata": {},
     "output_type": "execute_result"
    }
   ],
   "source": [
    "l"
   ]
  },
  {
   "cell_type": "code",
   "execution_count": 7,
   "id": "9cdf6218-b3d2-42bc-ab95-09a6eeadba7c",
   "metadata": {},
   "outputs": [
    {
     "name": "stdout",
     "output_type": "stream",
     "text": [
      "2\n",
      "3\n",
      "4\n",
      "4\n",
      "5\n",
      "6\n",
      "7\n",
      "8\n",
      "9\n"
     ]
    },
    {
     "data": {
      "text/plain": [
       "[2, 3, 4, 4, 5, 6, 7, 8, 9]"
      ]
     },
     "execution_count": 7,
     "metadata": {},
     "output_type": "execute_result"
    }
   ],
   "source": [
    "l1 = []\n",
    "for i in l :\n",
    "    print (i + 1)\n",
    "    l1.append(i + 1)\n",
    "l1"
   ]
  },
  {
   "cell_type": "code",
   "execution_count": 8,
   "id": "a4b20c8e-937c-45f0-89b0-0ccb57454b11",
   "metadata": {},
   "outputs": [],
   "source": [
    "l = [\"sudh\", \"kumar\", \"pwskills\", \"course\"] "
   ]
  },
  {
   "cell_type": "code",
   "execution_count": 9,
   "id": "7b86d9aa-4a5a-4427-99e7-ec6441fd288b",
   "metadata": {},
   "outputs": [
    {
     "data": {
      "text/plain": [
       "['sudh', 'kumar', 'pwskills', 'course']"
      ]
     },
     "execution_count": 9,
     "metadata": {},
     "output_type": "execute_result"
    }
   ],
   "source": [
    "l"
   ]
  },
  {
   "cell_type": "code",
   "execution_count": 11,
   "id": "ca2e2846-1a06-488e-b5f1-d851fed58404",
   "metadata": {},
   "outputs": [
    {
     "name": "stdout",
     "output_type": "stream",
     "text": [
      "sudh\n",
      "kumar\n",
      "pwskills\n",
      "course\n"
     ]
    }
   ],
   "source": [
    "for i in l:\n",
    "    print (i)"
   ]
  },
  {
   "cell_type": "code",
   "execution_count": 13,
   "id": "c9986ff9-4d6e-40aa-8ada-c35f938805e2",
   "metadata": {},
   "outputs": [
    {
     "name": "stdout",
     "output_type": "stream",
     "text": [
      "sudh\n",
      "kumar\n",
      "pwskills\n",
      "course\n"
     ]
    }
   ],
   "source": [
    "l1 = []\n",
    "for i in l :\n",
    "        print(i)\n",
    "        l1.append(i.upper())"
   ]
  },
  {
   "cell_type": "code",
   "execution_count": 14,
   "id": "598655a4-2407-43ac-83b7-0df4d018b9fc",
   "metadata": {},
   "outputs": [
    {
     "data": {
      "text/plain": [
       "['SUDH', 'KUMAR', 'PWSKILLS', 'COURSE']"
      ]
     },
     "execution_count": 14,
     "metadata": {},
     "output_type": "execute_result"
    }
   ],
   "source": [
    "l1"
   ]
  },
  {
   "cell_type": "code",
   "execution_count": 15,
   "id": "9e520ccc-f561-49a9-80bf-2a9176c40358",
   "metadata": {},
   "outputs": [],
   "source": [
    "l = [1,2,3,4,4, \"sudh\", \"kumar\", 324, 34.456, \"abc\"]"
   ]
  },
  {
   "cell_type": "code",
   "execution_count": 16,
   "id": "d19d3cb0-e895-49ed-b768-1cdee12a956c",
   "metadata": {},
   "outputs": [],
   "source": [
    "l1_num = []\n",
    "l2_str = []\n",
    "for i in l :\n",
    "    if type(i) == int or type(i) == float :\n",
    "        l1_num.append(i)\n",
    "    else :\n",
    "        l2_str.append(i)"
   ]
  },
  {
   "cell_type": "code",
   "execution_count": 17,
   "id": "af804600-2576-48e5-83b5-4873c6b03e86",
   "metadata": {},
   "outputs": [
    {
     "data": {
      "text/plain": [
       "[1, 2, 3, 4, 4, 324, 34.456]"
      ]
     },
     "execution_count": 17,
     "metadata": {},
     "output_type": "execute_result"
    }
   ],
   "source": [
    "l1_num"
   ]
  },
  {
   "cell_type": "code",
   "execution_count": 18,
   "id": "46b62f82-ea63-4538-aace-c04d6d0bac89",
   "metadata": {},
   "outputs": [
    {
     "data": {
      "text/plain": [
       "['sudh', 'kumar', 'abc']"
      ]
     },
     "execution_count": 18,
     "metadata": {},
     "output_type": "execute_result"
    }
   ],
   "source": [
    "l2_str"
   ]
  },
  {
   "cell_type": "code",
   "execution_count": null,
   "id": "abe1caa4-b5e3-44c3-9ad9-4a008d08259c",
   "metadata": {},
   "outputs": [],
   "source": []
  },
  {
   "cell_type": "code",
   "execution_count": null,
   "id": "16055472-fb6f-4723-ae97-4ad675582cd9",
   "metadata": {},
   "outputs": [],
   "source": []
  },
  {
   "cell_type": "code",
   "execution_count": null,
   "id": "b87bdad7-d90f-4d15-8dfc-8fc8dc27d228",
   "metadata": {},
   "outputs": [],
   "source": []
  },
  {
   "cell_type": "code",
   "execution_count": null,
   "id": "3e58f9bd-3afd-4a95-a9ab-9695ce16bd8e",
   "metadata": {},
   "outputs": [],
   "source": []
  },
  {
   "cell_type": "code",
   "execution_count": null,
   "id": "0d083553-8c6a-4554-9ec5-b13cfcb1833c",
   "metadata": {},
   "outputs": [],
   "source": []
  },
  {
   "cell_type": "code",
   "execution_count": null,
   "id": "774b1bd0-99cd-466d-97fa-feae7e878233",
   "metadata": {},
   "outputs": [],
   "source": []
  },
  {
   "cell_type": "code",
   "execution_count": null,
   "id": "3966d9de-74c1-43f2-a9cb-2cef8d1d4a4e",
   "metadata": {},
   "outputs": [],
   "source": []
  },
  {
   "cell_type": "code",
   "execution_count": null,
   "id": "de66bcdd-15e4-484c-8272-27a8f8ddf87c",
   "metadata": {},
   "outputs": [],
   "source": []
  },
  {
   "cell_type": "code",
   "execution_count": null,
   "id": "0728100d-e12b-4f7d-b7b1-b6d4f3b7321d",
   "metadata": {},
   "outputs": [],
   "source": []
  },
  {
   "cell_type": "code",
   "execution_count": null,
   "id": "e7ad85c0-6038-4754-8bf2-4407c9dddcf9",
   "metadata": {},
   "outputs": [],
   "source": []
  },
  {
   "cell_type": "code",
   "execution_count": null,
   "id": "4ce54a55-8f94-48ca-8ce0-4e488c480b3f",
   "metadata": {},
   "outputs": [],
   "source": []
  },
  {
   "cell_type": "code",
   "execution_count": null,
   "id": "821bdb1b-42e3-4be3-bc3c-d7e53dee0737",
   "metadata": {},
   "outputs": [],
   "source": []
  }
 ],
 "metadata": {
  "kernelspec": {
   "display_name": "Python 3 (ipykernel)",
   "language": "python",
   "name": "python3"
  },
  "language_info": {
   "codemirror_mode": {
    "name": "ipython",
    "version": 3
   },
   "file_extension": ".py",
   "mimetype": "text/x-python",
   "name": "python",
   "nbconvert_exporter": "python",
   "pygments_lexer": "ipython3",
   "version": "3.10.8"
  }
 },
 "nbformat": 4,
 "nbformat_minor": 5
}
